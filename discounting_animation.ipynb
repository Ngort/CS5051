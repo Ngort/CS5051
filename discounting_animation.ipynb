{
 "cells": [
  {
   "cell_type": "code",
   "execution_count": 1,
   "metadata": {
    "collapsed": false
   },
   "outputs": [
   ],
   "source": [
    "from IPython.display import HTML, display, clear_output\n",
    "from pathlib import Path\n",
    "\n",
    "import os\n",
    "import numpy as np\n",
    "import matplotlib.pyplot as plt\n",
    "import math\n",
    "import matplotlib.animation as animation"
   ]
  },
  {
   "cell_type": "code",
   "execution_count": 2,
   "metadata": {
    "collapsed": false
   },
   "outputs": [
   ],
   "source": [
    "\n",
    "def pv_exp(a,r,t):\n",
    "    return a/((1+r)**(t))\n",
    "\n",
    "def pv_hyp(a,r,t):\n",
    "    return a/(1+r*t)\n",
    "\n",
    "\n",
    "def disc_hyp(r,t):\n",
    "    return  (1/((1+r*(t+1))/(1+r*(t))))\n",
    "\n",
    "\n",
    "def disc_exp(r):\n",
    "    return ((1+r)**(-1))\n",
    "    "
   ]
  },
  {
   "cell_type": "code",
   "execution_count": 3,
   "metadata": {
    "collapsed": false,
    "scrolled": true
   },
   "outputs": [
   ],
   "source": [
    "fig, axes = plt.subplots(2,figsize=(7.5,7.5));\n",
    "plt.close()\n",
    "\n",
    "def plot_discountings(x_max = 100, y_max = 100, n_frames = 10):\n",
    "    curves = [axes[0].plot([], [], label=('Exponential discounting'), color = 'b')[0],\n",
    "              axes[0].plot([], [], label=('Hyperbolic discounting'), color = 'orange')[0],\n",
    "              axes[1].plot([], [], label=('Exponential discounting'), color = 'b')[0],\n",
    "              axes[1].plot([], [], label=('Hyperbolic discounting'), color = 'orange')[0]];\n",
    "\n",
    "\n",
    "    filename = 'discounting.gif'\n",
    "\n",
    "\n",
    "    for ax in axes: ax.set_xlim(0,x_max)\n",
    "    axes[0].set_ylim(0,y_max)\n",
    "    axes[1].set_ylim(0.92,1.02)\n",
    "\n",
    "    axes[0].set_title(r\"\"\"Present Value (PV)\"\"\")\n",
    "    axes[1].set_title('Discount Rate')\n",
    "    axes[0].legend()\n",
    "    axes[1].legend()\n",
    "\n",
    "\n",
    "    #curves = [axes.plot([], [])[0] for x in range(N)]\n",
    "\n",
    "    def init():    \n",
    "        for curve in curves:\n",
    "            curve.set_data([], []) \n",
    "\n",
    "        return curves\n",
    "\n",
    "    def animate(i):\n",
    "        r = np.linspace(0.01,0.07,n_frames)\n",
    "\n",
    "        curves[0].set_data(range(x_max),pv_exp(y_max,r[i],np.arange(0,x_max)))\n",
    "        curves[1].set_data(range(x_max),pv_hyp(y_max,r[i]+0.01,np.arange(0,x_max)))\n",
    "\n",
    "        curves[2].set_data(range(x_max),x_max*[disc_exp(r[i])])\n",
    "        curves[3].set_data(range(x_max),disc_hyp(r[i]+0.01,np.arange(0,x_max)))\n",
    "\n",
    "        return curves\n",
    "\n",
    "    anim = animation.FuncAnimation(fig, animate,\n",
    "                                   frames=n_frames, interval=500)\n",
    "\n",
    "\n",
    "    i=1\n",
    "    while Path(filename).exists():\n",
    "        print(filename,' already exists.')\n",
    "        i+=1\n",
    "        os.remove(filename)\n",
    "        filename = filename[:-4] + str(i) + '.gif'\n",
    "        print('Successfully created: {}. Rendering in Cocalc. '.format(filename))\n",
    "\n",
    "\n",
    "    anim.save(filename, writer='imagemagick')\n",
    "    display(HTML('<img src=\"' + filename + '\">'))"
   ]
  },
  {
   "cell_type": "code",
   "execution_count": 4,
   "metadata": {
    "collapsed": false
   },
   "outputs": [
    {
     "name": "stdout",
     "output_type": "stream",
     "text": [
      "discounting.gif  already exists.\n",
      "Successfully created: discounting2.gif. Rendering in Cocalc. \n",
      "discounting2.gif  already exists.\n",
      "Successfully created: discounting23.gif. Rendering in Cocalc. \n"
     ]
    },
    {
     "data": {
      "text/html": [
       "<img src=\"discounting23.gif\">"
      ]
     },
     "execution_count": 4,
     "metadata": {
     },
     "output_type": "execute_result"
    }
   ],
   "source": [
    "plot_discountings(x_max=1000)"
   ]
  },
  {
   "cell_type": "code",
   "execution_count": 0,
   "metadata": {
    "collapsed": false
   },
   "outputs": [
   ],
   "source": [
   ]
  },
  {
   "cell_type": "code",
   "execution_count": 0,
   "metadata": {
    "collapsed": false
   },
   "outputs": [
   ],
   "source": [
   ]
  }
 ],
 "metadata": {
  "kernelspec": {
   "display_name": "Python 3 (Anaconda)",
   "language": "python",
   "name": "anaconda3"
  },
  "language_info": {
   "codemirror_mode": {
    "name": "ipython",
    "version": 3
   },
   "file_extension": ".py",
   "mimetype": "text/x-python",
   "name": "python",
   "nbconvert_exporter": "python",
   "pygments_lexer": "ipython3",
   "version": "3.5.4"
  }
 },
 "nbformat": 4,
 "nbformat_minor": 0
}